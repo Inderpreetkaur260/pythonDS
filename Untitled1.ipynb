{
 "cells": [
  {
   "cell_type": "code",
   "execution_count": 7,
   "id": "e2140515-4904-4c9e-bbfe-75dd96fb1c95",
   "metadata": {},
   "outputs": [],
   "source": [
    "import regex"
   ]
  },
  {
   "cell_type": "code",
   "execution_count": 8,
   "id": "371c847c-6394-4741-b534-c8e6216ae77b",
   "metadata": {},
   "outputs": [],
   "source": [
    "patt='[a-zA-Z0-9._]+@[a-zA-Z0-9]+.[a-z]{2,6}'"
   ]
  },
  {
   "cell_type": "code",
   "execution_count": 9,
   "id": "28098398-7da3-4c5b-a81d-dde47e5d87a2",
   "metadata": {},
   "outputs": [],
   "source": [
    "str1='my mail id is indersaini_123@gmail.com and other id is saininder.765@gmail.in and one more id is saini564_inder@gmail.com'"
   ]
  },
  {
   "cell_type": "code",
   "execution_count": 11,
   "id": "c8e102e4-8681-46b4-87fc-42266ed357eb",
   "metadata": {},
   "outputs": [
    {
     "name": "stdout",
     "output_type": "stream",
     "text": [
      "['indersaini_123@gmail.com', 'saininder.765@gmail.in', 'saini564_inder@gmail.com']\n"
     ]
    }
   ],
   "source": [
    "ans=regex.findall(pattern=patt,string=str1)\n",
    "print(ans)"
   ]
  },
  {
   "cell_type": "code",
   "execution_count": 13,
   "id": "45fc57dd-13cf-4566-8e9a-ed270b590aee",
   "metadata": {},
   "outputs": [
    {
     "name": "stdin",
     "output_type": "stream",
     "text": [
      "Enter your email:-  ghiuhcf.56js@gmail.com\n"
     ]
    },
    {
     "name": "stdout",
     "output_type": "stream",
     "text": [
      "['ghiuhcf.56js@gmail.com']\n"
     ]
    }
   ],
   "source": [
    "a=input(\"Enter your email:- \")\n",
    "ans=regex.findall(pattern=patt,string=a)\n",
    "if not ans:\n",
    "    print(\"Match not found\")\n",
    "else:\n",
    "    print(ans)"
   ]
  },
  {
   "cell_type": "code",
   "execution_count": 17,
   "id": "2cf08e8a-4d2d-4a9e-a32d-a191ccbd7d30",
   "metadata": {},
   "outputs": [],
   "source": [
    "pass1='(?=.*[a-z])(?=.*[A-Z])(?=.*[0-9])(?=.*[_!@#$%^&*]).{8,}'"
   ]
  },
  {
   "cell_type": "code",
   "execution_count": 18,
   "id": "441614cb-738a-4e14-a898-9eb78d37b28e",
   "metadata": {},
   "outputs": [
    {
     "name": "stdin",
     "output_type": "stream",
     "text": [
      "Enter your password:-  iYNYy34_hg\n"
     ]
    },
    {
     "name": "stdout",
     "output_type": "stream",
     "text": [
      "Valid\n"
     ]
    }
   ],
   "source": [
    "b=input(\"Enter your password:- \")\n",
    "ans=regex.match(pattern=pass1,string=b)\n",
    "if ans:\n",
    "    print(\"Valid\")\n",
    "else:\n",
    "    print(\"Invalid\")"
   ]
  },
  {
   "cell_type": "code",
   "execution_count": null,
   "id": "de89da8d-40b4-4d88-9cbb-6994e3221b80",
   "metadata": {},
   "outputs": [],
   "source": []
  }
 ],
 "metadata": {
  "kernelspec": {
   "display_name": "Python 3 (ipykernel)",
   "language": "python",
   "name": "python3"
  },
  "language_info": {
   "codemirror_mode": {
    "name": "ipython",
    "version": 3
   },
   "file_extension": ".py",
   "mimetype": "text/x-python",
   "name": "python",
   "nbconvert_exporter": "python",
   "pygments_lexer": "ipython3",
   "version": "3.13.2"
  }
 },
 "nbformat": 4,
 "nbformat_minor": 5
}
