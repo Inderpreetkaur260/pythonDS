{
 "cells": [
  {
   "cell_type": "code",
   "execution_count": 4,
   "id": "b8299378-3a66-4010-a1b8-e62aae12a11c",
   "metadata": {},
   "outputs": [],
   "source": [
    "import pandas as pd"
   ]
  },
  {
   "cell_type": "code",
   "execution_count": 5,
   "id": "560f0892-23b1-43c5-b64e-2cd950752467",
   "metadata": {},
   "outputs": [
    {
     "data": {
      "text/plain": [
       "np.int64(200)"
      ]
     },
     "execution_count": 5,
     "metadata": {},
     "output_type": "execute_result"
    }
   ],
   "source": [
    "#QUESTION 1\n",
    "data = pd.Series([100,200,300,400], index=['x','y','z','w'])\n",
    "data.loc['y']"
   ]
  },
  {
   "cell_type": "code",
   "execution_count": 6,
   "id": "3c44376c-4260-4a98-ad26-a839f5354099",
   "metadata": {},
   "outputs": [
    {
     "data": {
      "text/plain": [
       "np.int64(200)"
      ]
     },
     "execution_count": 6,
     "metadata": {},
     "output_type": "execute_result"
    }
   ],
   "source": [
    "#QUESTION 2\n",
    "data = pd.Series([100,200,300,400], index=['x','y','z','w'])\n",
    "data.iloc[1]"
   ]
  },
  {
   "cell_type": "code",
   "execution_count": 7,
   "id": "ca1d2a8c-1514-496c-b6c5-414ffd3a084a",
   "metadata": {},
   "outputs": [
    {
     "data": {
      "text/plain": [
       "x    100\n",
       "z    300\n",
       "y    200\n",
       "dtype: int64"
      ]
     },
     "execution_count": 7,
     "metadata": {},
     "output_type": "execute_result"
    }
   ],
   "source": [
    "#QUESTION 3\n",
    "data = pd.Series([100,200,300,400], index=['x','y','z','w'])\n",
    "data.loc[['x','z','y']]"
   ]
  },
  {
   "cell_type": "code",
   "execution_count": 11,
   "id": "d65681f8-96e4-485c-b3cc-0ad82c779d94",
   "metadata": {},
   "outputs": [
    {
     "data": {
      "text/plain": [
       "np.int64(400)"
      ]
     },
     "execution_count": 11,
     "metadata": {},
     "output_type": "execute_result"
    }
   ],
   "source": [
    "#QUESTION 4\n",
    "data = pd.Series([100,200,300,400], index=['x','y','z','w'])\n",
    "data.iloc[-1]"
   ]
  },
  {
   "cell_type": "code",
   "execution_count": 9,
   "id": "65188808-c121-457e-978a-fa86131cebff",
   "metadata": {},
   "outputs": [
    {
     "data": {
      "text/plain": [
       "y    200\n",
       "z    300\n",
       "dtype: int64"
      ]
     },
     "execution_count": 9,
     "metadata": {},
     "output_type": "execute_result"
    }
   ],
   "source": [
    "#QUESTION 5\n",
    "data = pd.Series([100,200,300,400], index=['x','y','z','w'])\n",
    "data.loc['y':'z']"
   ]
  },
  {
   "cell_type": "code",
   "execution_count": 12,
   "id": "f233ee24-dbd4-4b56-a391-7878401d947b",
   "metadata": {},
   "outputs": [
    {
     "data": {
      "text/plain": [
       "np.int64(300)"
      ]
     },
     "execution_count": 12,
     "metadata": {},
     "output_type": "execute_result"
    }
   ],
   "source": [
    "#QUESTION 6\n",
    "data = pd.Series([100,200,300,400], index=[1,2,3,4])\n",
    "data.iloc[2]"
   ]
  },
  {
   "cell_type": "code",
   "execution_count": 13,
   "id": "a336f130-03d2-49be-a03b-a29c613d1745",
   "metadata": {},
   "outputs": [
    {
     "data": {
      "text/plain": [
       "np.int64(200)"
      ]
     },
     "execution_count": 13,
     "metadata": {},
     "output_type": "execute_result"
    }
   ],
   "source": [
    "data.loc[2]"
   ]
  },
  {
   "cell_type": "code",
   "execution_count": 29,
   "id": "6f4f4b70-ffdb-47d6-afc5-b40c16863f58",
   "metadata": {},
   "outputs": [
    {
     "data": {
      "text/plain": [
       "np.int64(100)"
      ]
     },
     "execution_count": 29,
     "metadata": {},
     "output_type": "execute_result"
    }
   ],
   "source": [
    "#QUESTION 7\n",
    "data = pd.Series([100,200,300,400], index=['x','y','z','w'])\n",
    "data.x"
   ]
  }
 ],
 "metadata": {
  "kernelspec": {
   "display_name": "Python 3 (ipykernel)",
   "language": "python",
   "name": "python3"
  },
  "language_info": {
   "codemirror_mode": {
    "name": "ipython",
    "version": 3
   },
   "file_extension": ".py",
   "mimetype": "text/x-python",
   "name": "python",
   "nbconvert_exporter": "python",
   "pygments_lexer": "ipython3",
   "version": "3.13.2"
  }
 },
 "nbformat": 4,
 "nbformat_minor": 5
}
